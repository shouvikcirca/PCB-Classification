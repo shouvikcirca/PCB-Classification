{
 "cells": [
  {
   "cell_type": "code",
   "execution_count": 1,
   "metadata": {},
   "outputs": [],
   "source": [
    "from keras.preprocessing.image import ImageDataGenerator"
   ]
  },
  {
   "cell_type": "code",
   "execution_count": 2,
   "metadata": {},
   "outputs": [],
   "source": [
    "from time import time\n",
    "from tensorflow.python.keras.callbacks import TensorBoard"
   ]
  },
  {
   "cell_type": "code",
   "execution_count": 3,
   "metadata": {},
   "outputs": [],
   "source": [
    "import tensorflow as tf\n",
    "import keras  \n",
    "from keras.applications import DenseNet121\n",
    "import numpy as np\n",
    "from keras.preprocessing.image import ImageDataGenerator, NumpyArrayIterator\n",
    "from keras.callbacks import EarlyStopping, ModelCheckpoint\n",
    "from sklearn.metrics import confusion_matrix\n",
    "from keras import models, layers, optimizers"
   ]
  },
  {
   "cell_type": "code",
   "execution_count": null,
   "metadata": {},
   "outputs": [],
   "source": [
    "# import os\n",
    "# from keras.preprocessing.image import load_img, img_to_array, array_to_img\n",
    "# truefs = os.listdir('Folds/3folds/fold1/Train/True')\n",
    "# falsefs = os.listdir('Folds/3folds/fold1/Train/False')"
   ]
  },
  {
   "cell_type": "code",
   "execution_count": null,
   "metadata": {},
   "outputs": [],
   "source": [
    "# parentpath = 'Folds/3folds/fold1/Train/'\n",
    "# truepath = 'True/'\n",
    "# falsepath = 'False/'"
   ]
  },
  {
   "cell_type": "code",
   "execution_count": null,
   "metadata": {},
   "outputs": [],
   "source": [
    "# X =  np.zeros([len(truefs)+len(falsefs),600,600,3])\n",
    "# for fn in range(len(truefs)):\n",
    "#       X[fn] = img_to_array(load_img(parentpath+truepath+truefs[fn]))"
   ]
  },
  {
   "cell_type": "code",
   "execution_count": null,
   "metadata": {},
   "outputs": [],
   "source": [
    "# falsefn = 0\n",
    "# for fn in range(len(truefs),len(truefs)+len(falsefs)):\n",
    "#     X[fn] = img_to_array(load_img(parentpath+falsepath+falsefs[falsefn]))\n",
    "#     falsefn+=1\n"
   ]
  },
  {
   "cell_type": "code",
   "execution_count": null,
   "metadata": {},
   "outputs": [],
   "source": [
    "# if 'truenp' in dir():\n",
    "#     del truenp\n",
    "# if 'falsenp' in dir():\n",
    "#     del falsenp"
   ]
  },
  {
   "cell_type": "code",
   "execution_count": null,
   "metadata": {},
   "outputs": [],
   "source": [
    "# Xmean = X.reshape(-1,3).mean(axis = 0)\n",
    "# Xstd = X.reshape(-1,3).std(axis = 0).shape\n",
    "# X = (X - Xmean)/Xstd"
   ]
  },
  {
   "cell_type": "code",
   "execution_count": null,
   "metadata": {},
   "outputs": [],
   "source": [
    "# if 'X' in dir():\n",
    "#     del X\n",
    "# destroying X from memory"
   ]
  },
  {
   "cell_type": "code",
   "execution_count": 4,
   "metadata": {},
   "outputs": [],
   "source": [
    "train_datagen = ImageDataGenerator(rescale = 1/255.)\n",
    "valid_datagen = ImageDataGenerator(rescale = 1/255.)"
   ]
  },
  {
   "cell_type": "code",
   "execution_count": 5,
   "metadata": {},
   "outputs": [
    {
     "name": "stdout",
     "output_type": "stream",
     "text": [
      "Found 1360 images belonging to 2 classes.\n"
     ]
    }
   ],
   "source": [
    "train_generator = train_datagen.flow_from_directory(\n",
    "    'Folds/3folds/fold3/Train',\n",
    "    batch_size = 34,\n",
    "    class_mode = 'binary',\n",
    "    shuffle = True,\n",
    "    seed = 123\n",
    "\n",
    ")"
   ]
  },
  {
   "cell_type": "code",
   "execution_count": 6,
   "metadata": {},
   "outputs": [
    {
     "name": "stdout",
     "output_type": "stream",
     "text": [
      "Found 679 images belonging to 2 classes.\n"
     ]
    }
   ],
   "source": [
    "valid_generator = valid_datagen.flow_from_directory(\n",
    "    'Folds/3folds/fold3/Validation',\n",
    "    batch_size = 7,\n",
    "    class_mode = 'binary',\n",
    "    shuffle = True,\n",
    "    seed = 123\n",
    "\n",
    ")"
   ]
  },
  {
   "cell_type": "code",
   "execution_count": 8,
   "metadata": {},
   "outputs": [],
   "source": [
    "from Models.models import dn121scratch as dns"
   ]
  },
  {
   "cell_type": "code",
   "execution_count": 9,
   "metadata": {},
   "outputs": [],
   "source": [
    "import keras.backend as K\n",
    "K.clear_session()\n",
    "if 'model' in dir():\n",
    "    del model"
   ]
  },
  {
   "cell_type": "code",
   "execution_count": 10,
   "metadata": {},
   "outputs": [],
   "source": [
    "model = dns()"
   ]
  },
  {
   "cell_type": "code",
   "execution_count": 11,
   "metadata": {},
   "outputs": [
    {
     "data": {
      "text/plain": [
       "'checkpoints/fold_3____02_11_2020____19_46_35.h5'"
      ]
     },
     "execution_count": 11,
     "metadata": {},
     "output_type": "execute_result"
    }
   ],
   "source": [
    "from datetime import datetime\n",
    "f = 3\n",
    "b = 'checkpoints/'+'fold_{}____'.format(f)+datetime.now().strftime(\"%d_%m_%Y____%H_%M_%S\")+'.h5'\n",
    "b"
   ]
  },
  {
   "cell_type": "code",
   "execution_count": 12,
   "metadata": {},
   "outputs": [
    {
     "data": {
      "text/plain": [
       "'logs/Fold3__02_11_2020____19_46_47'"
      ]
     },
     "execution_count": 12,
     "metadata": {},
     "output_type": "execute_result"
    }
   ],
   "source": [
    "\"logs/\"+'Fold{}__'.format(f)+datetime.now().strftime(\"%d_%m_%Y____%H_%M_%S\")"
   ]
  },
  {
   "cell_type": "code",
   "execution_count": 13,
   "metadata": {},
   "outputs": [],
   "source": [
    "if 'tboard' in dir():\n",
    "    del tboard"
   ]
  },
  {
   "cell_type": "code",
   "execution_count": 14,
   "metadata": {},
   "outputs": [],
   "source": [
    "tboard = TensorBoard(log_dir = \"logs/\"+'Fold{}__'.format(f)+datetime.now().strftime(\"%d_%m_%Y____%H_%M_%S\"))"
   ]
  },
  {
   "cell_type": "code",
   "execution_count": 15,
   "metadata": {},
   "outputs": [],
   "source": [
    "model.compile(optimizer = optimizers.Adam(lr = 1e-3),loss = 'binary_crossentropy',metrics = ['accuracy'])"
   ]
  },
  {
   "cell_type": "code",
   "execution_count": 16,
   "metadata": {},
   "outputs": [],
   "source": [
    "my_callbacks = [\n",
    "            tf.keras.callbacks.ModelCheckpoint(\n",
    "                filepath='checkpoints1/'+'fold_{}____'.format(f)+datetime.now().strftime(\"%d_%m_%Y____%H_%M_%S\")+'.h5',\n",
    "                monitor = 'val_loss',\n",
    "                save_best_only = True\n",
    "            ),\n",
    "            tboard\n",
    "        ]"
   ]
  },
  {
   "cell_type": "code",
   "execution_count": null,
   "metadata": {},
   "outputs": [],
   "source": [
    "# To see tensorboard\n",
    "# Execute the following command in terminal\n",
    "# tensorboard --logdir=logs/"
   ]
  },
  {
   "cell_type": "code",
   "execution_count": null,
   "metadata": {},
   "outputs": [
    {
     "name": "stdout",
     "output_type": "stream",
     "text": [
      "Epoch 1/100\n",
      "40/40 [==============================] - 1996s 50s/step - loss: 0.5718 - accuracy: 0.7669 - val_loss: 29.7056 - val_accuracy: 0.3800\n",
      "Epoch 2/100\n",
      "40/40 [==============================] - 1988s 50s/step - loss: 0.3825 - accuracy: 0.8419 - val_loss: 4.9025 - val_accuracy: 0.4875\n",
      "Epoch 3/100\n",
      "40/40 [==============================] - 1992s 50s/step - loss: 0.3473 - accuracy: 0.8610 - val_loss: 3.5486 - val_accuracy: 0.4080\n",
      "Epoch 4/100\n",
      "40/40 [==============================] - 2008s 50s/step - loss: 0.3123 - accuracy: 0.8735 - val_loss: 1.1559 - val_accuracy: 0.7482\n",
      "Epoch 5/100\n",
      "40/40 [==============================] - 1997s 50s/step - loss: 0.2714 - accuracy: 0.8890 - val_loss: 1.2851 - val_accuracy: 0.8027\n",
      "Epoch 6/100\n",
      "40/40 [==============================] - 1993s 50s/step - loss: 0.2399 - accuracy: 0.9059 - val_loss: 0.9577 - val_accuracy: 0.7614\n",
      "Epoch 7/100\n",
      "40/40 [==============================] - 1999s 50s/step - loss: 0.2593 - accuracy: 0.8978 - val_loss: 0.4255 - val_accuracy: 0.8012\n",
      "Epoch 8/100\n",
      "40/40 [==============================] - 1999s 50s/step - loss: 0.2232 - accuracy: 0.9074 - val_loss: 0.7149 - val_accuracy: 0.7644\n",
      "Epoch 9/100\n",
      "40/40 [==============================] - 1993s 50s/step - loss: 0.2157 - accuracy: 0.9096 - val_loss: 0.4904 - val_accuracy: 0.8527\n",
      "Epoch 10/100\n",
      "40/40 [==============================] - 2008s 50s/step - loss: 0.1776 - accuracy: 0.9309 - val_loss: 0.7964 - val_accuracy: 0.8306\n",
      "Epoch 11/100\n",
      "40/40 [==============================] - 2004s 50s/step - loss: 0.2128 - accuracy: 0.9169 - val_loss: 0.4620 - val_accuracy: 0.8262\n",
      "Epoch 12/100\n",
      "40/40 [==============================] - 2002s 50s/step - loss: 0.1802 - accuracy: 0.9353 - val_loss: 0.7243 - val_accuracy: 0.7806\n",
      "Epoch 13/100\n",
      "40/40 [==============================] - 2003s 50s/step - loss: 0.1469 - accuracy: 0.9449 - val_loss: 0.8917 - val_accuracy: 0.8159\n",
      "Epoch 14/100\n",
      "40/40 [==============================] - 1995s 50s/step - loss: 0.1169 - accuracy: 0.9515 - val_loss: 0.6883 - val_accuracy: 0.6657\n",
      "Epoch 15/100\n",
      "40/40 [==============================] - 2012s 50s/step - loss: 0.1315 - accuracy: 0.9522 - val_loss: 0.7112 - val_accuracy: 0.8115\n",
      "Epoch 16/100\n",
      "40/40 [==============================] - 1991s 50s/step - loss: 0.1607 - accuracy: 0.9434 - val_loss: 0.5581 - val_accuracy: 0.8056\n",
      "Epoch 17/100\n",
      "40/40 [==============================] - 2002s 50s/step - loss: 0.0792 - accuracy: 0.9691 - val_loss: 0.6102 - val_accuracy: 0.8557\n",
      "Epoch 18/100\n",
      "40/40 [==============================] - 1997s 50s/step - loss: 0.0542 - accuracy: 0.9846 - val_loss: 0.4739 - val_accuracy: 0.8822\n",
      "Epoch 19/100\n",
      "40/40 [==============================] - 2000s 50s/step - loss: 0.1193 - accuracy: 0.9537 - val_loss: 1.9456 - val_accuracy: 0.6421\n",
      "Epoch 20/100\n",
      "40/40 [==============================] - 2006s 50s/step - loss: 0.1721 - accuracy: 0.9324 - val_loss: 0.6148 - val_accuracy: 0.8380\n",
      "Epoch 21/100\n",
      "40/40 [==============================] - 1997s 50s/step - loss: 0.0978 - accuracy: 0.9610 - val_loss: 0.5417 - val_accuracy: 0.8851\n",
      "Epoch 22/100\n",
      "40/40 [==============================] - 1990s 50s/step - loss: 0.0683 - accuracy: 0.9743 - val_loss: 0.5869 - val_accuracy: 0.8571\n",
      "Epoch 23/100\n",
      "40/40 [==============================] - 2005s 50s/step - loss: 0.0377 - accuracy: 0.9868 - val_loss: 0.5958 - val_accuracy: 0.8247\n",
      "Epoch 24/100\n",
      "40/40 [==============================] - 2008s 50s/step - loss: 0.0630 - accuracy: 0.9809 - val_loss: 0.8156 - val_accuracy: 0.8807\n",
      "Epoch 25/100\n",
      "40/40 [==============================] - 1994s 50s/step - loss: 0.0764 - accuracy: 0.9728 - val_loss: 0.8915 - val_accuracy: 0.7614\n",
      "Epoch 26/100\n",
      "40/40 [==============================] - 2003s 50s/step - loss: 0.0368 - accuracy: 0.9875 - val_loss: 1.1162 - val_accuracy: 0.6627\n",
      "Epoch 27/100\n",
      "40/40 [==============================] - 1992s 50s/step - loss: 0.0375 - accuracy: 0.9882 - val_loss: 0.8726 - val_accuracy: 0.8660\n",
      "Epoch 28/100\n",
      "40/40 [==============================] - 1999s 50s/step - loss: 0.0361 - accuracy: 0.9868 - val_loss: 0.6430 - val_accuracy: 0.8513\n",
      "Epoch 29/100\n",
      " 7/40 [====>.........................] - ETA: 22:06 - loss: 0.0354 - accuracy: 0.9832"
     ]
    }
   ],
   "source": [
    "history = model.fit(\n",
    "    train_generator,\n",
    "    epochs=100,\n",
    "    steps_per_epoch = 40,\n",
    "    validation_data = valid_generator,\n",
    "    validation_steps = 97,\n",
    "    callbacks = my_callbacks,\n",
    "    verbose = 1,\n",
    ")"
   ]
  },
  {
   "cell_type": "code",
   "execution_count": null,
   "metadata": {},
   "outputs": [],
   "source": [
    "510/32"
   ]
  },
  {
   "cell_type": "code",
   "execution_count": null,
   "metadata": {},
   "outputs": [],
   "source": []
  },
  {
   "cell_type": "code",
   "execution_count": null,
   "metadata": {},
   "outputs": [],
   "source": []
  },
  {
   "cell_type": "code",
   "execution_count": null,
   "metadata": {},
   "outputs": [],
   "source": []
  },
  {
   "cell_type": "code",
   "execution_count": null,
   "metadata": {},
   "outputs": [],
   "source": []
  },
  {
   "cell_type": "code",
   "execution_count": null,
   "metadata": {},
   "outputs": [],
   "source": []
  },
  {
   "cell_type": "code",
   "execution_count": null,
   "metadata": {},
   "outputs": [],
   "source": []
  },
  {
   "cell_type": "code",
   "execution_count": null,
   "metadata": {},
   "outputs": [],
   "source": []
  },
  {
   "cell_type": "code",
   "execution_count": null,
   "metadata": {},
   "outputs": [],
   "source": []
  },
  {
   "cell_type": "code",
   "execution_count": null,
   "metadata": {},
   "outputs": [],
   "source": []
  },
  {
   "cell_type": "code",
   "execution_count": null,
   "metadata": {},
   "outputs": [],
   "source": []
  },
  {
   "cell_type": "code",
   "execution_count": null,
   "metadata": {},
   "outputs": [],
   "source": []
  }
 ],
 "metadata": {
  "kernelspec": {
   "display_name": "Python 3",
   "language": "python",
   "name": "python3"
  },
  "language_info": {
   "codemirror_mode": {
    "name": "ipython",
    "version": 3
   },
   "file_extension": ".py",
   "mimetype": "text/x-python",
   "name": "python",
   "nbconvert_exporter": "python",
   "pygments_lexer": "ipython3",
   "version": "3.8.5"
  }
 },
 "nbformat": 4,
 "nbformat_minor": 4
}
