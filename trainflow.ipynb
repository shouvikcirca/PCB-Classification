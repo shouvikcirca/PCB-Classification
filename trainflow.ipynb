{
 "cells": [
  {
   "cell_type": "code",
   "execution_count": 1,
   "metadata": {},
   "outputs": [],
   "source": [
    "from keras.preprocessing.image import ImageDataGenerator"
   ]
  },
  {
   "cell_type": "code",
   "execution_count": 20,
   "metadata": {},
   "outputs": [],
   "source": [
    "from time import time\n",
    "from tensorflow.python.keras.callbacks import TensorBoard"
   ]
  },
  {
   "cell_type": "code",
   "execution_count": 2,
   "metadata": {},
   "outputs": [],
   "source": [
    "import tensorflow as tf\n",
    "import keras  \n",
    "from keras.applications import DenseNet121\n",
    "import numpy as np\n",
    "from keras.preprocessing.image import ImageDataGenerator, NumpyArrayIterator\n",
    "from keras.callbacks import EarlyStopping, ModelCheckpoint\n",
    "from sklearn.metrics import confusion_matrix\n",
    "from keras import models, layers, optimizers"
   ]
  },
  {
   "cell_type": "code",
   "execution_count": 7,
   "metadata": {},
   "outputs": [],
   "source": [
    "X = np.load('Numpyfied/finaltrain.npy')\n"
   ]
  },
  {
   "cell_type": "code",
   "execution_count": 8,
   "metadata": {},
   "outputs": [],
   "source": [
    "train_datagen =  ImageDataGenerator(\n",
    "    featurewise_center=True,\n",
    "    featurewise_std_normalization=True, \n",
    ")\n",
    "train_datagen.fit(X)"
   ]
  },
  {
   "cell_type": "code",
   "execution_count": 9,
   "metadata": {},
   "outputs": [],
   "source": [
    "valid_datagen =  ImageDataGenerator(\n",
    "    featurewise_center=True,\n",
    "    featurewise_std_normalization=True, \n",
    ")\n",
    "valid_datagen.fit(X)"
   ]
  },
  {
   "cell_type": "code",
   "execution_count": 10,
   "metadata": {},
   "outputs": [],
   "source": [
    "if 'X' in dir():\n",
    "    del X\n",
    "# destroying X from memory"
   ]
  },
  {
   "cell_type": "code",
   "execution_count": 11,
   "metadata": {},
   "outputs": [
    {
     "name": "stdout",
     "output_type": "stream",
     "text": [
      "Found 1529 images belonging to 2 classes.\n"
     ]
    }
   ],
   "source": [
    "train_generator = train_datagen.flow_from_directory(\n",
    "    'Train',\n",
    "    batch_size = 32,\n",
    "    class_mode = 'binary'\n",
    "\n",
    ")"
   ]
  },
  {
   "cell_type": "code",
   "execution_count": 12,
   "metadata": {},
   "outputs": [
    {
     "name": "stdout",
     "output_type": "stream",
     "text": [
      "Found 510 images belonging to 2 classes.\n"
     ]
    }
   ],
   "source": [
    "valid_generator = valid_datagen.flow_from_directory(\n",
    "    'Validation',\n",
    "    batch_size = 32,\n",
    "    class_mode = 'binary'\n",
    "\n",
    ")"
   ]
  },
  {
   "cell_type": "code",
   "execution_count": 13,
   "metadata": {},
   "outputs": [],
   "source": [
    "from Models.models import dn121scratch as dns"
   ]
  },
  {
   "cell_type": "code",
   "execution_count": 14,
   "metadata": {},
   "outputs": [],
   "source": [
    "import keras.backend as K\n",
    "K.clear_session()\n",
    "if 'model' in dir():\n",
    "    del model"
   ]
  },
  {
   "cell_type": "code",
   "execution_count": 15,
   "metadata": {},
   "outputs": [],
   "source": [
    "model = dns()"
   ]
  },
  {
   "cell_type": "code",
   "execution_count": 16,
   "metadata": {},
   "outputs": [
    {
     "data": {
      "text/plain": [
       "'checkpoints/fold_1____19_10_2020____10_57_26.h5'"
      ]
     },
     "execution_count": 16,
     "metadata": {},
     "output_type": "execute_result"
    }
   ],
   "source": [
    "from datetime import datetime\n",
    "f = 1\n",
    "b = 'checkpoints/'+'fold_{}____'.format(f)+datetime.now().strftime(\"%d_%m_%Y____%H_%M_%S\")+'.h5'\n",
    "b"
   ]
  },
  {
   "cell_type": "code",
   "execution_count": 21,
   "metadata": {},
   "outputs": [
    {
     "data": {
      "text/plain": [
       "'logs/19_10_2020____11_12_31'"
      ]
     },
     "execution_count": 21,
     "metadata": {},
     "output_type": "execute_result"
    }
   ],
   "source": [
    "\"logs/\"+datetime.now().strftime(\"%d_%m_%Y____%H_%M_%S\")"
   ]
  },
  {
   "cell_type": "code",
   "execution_count": 23,
   "metadata": {},
   "outputs": [],
   "source": [
    "tboard = TensorBoard(log_dir = \"logs/\"+datetime.now().strftime(\"%d_%m_%Y____%H_%M_%S\"))"
   ]
  },
  {
   "cell_type": "code",
   "execution_count": 18,
   "metadata": {},
   "outputs": [],
   "source": [
    "model.compile(optimizer = optimizers.Adam(lr = 1e-3),loss = 'binary_crossentropy',metrics = ['accuracy'])"
   ]
  },
  {
   "cell_type": "code",
   "execution_count": 25,
   "metadata": {},
   "outputs": [],
   "source": [
    "my_callbacks = [\n",
    "            tf.keras.callbacks.ModelCheckpoint(\n",
    "                filepath='checkpoints1/'+'fold_{}____'.format(f)+datetime.now().strftime(\"%d_%m_%Y____%H_%M_%S\")+'.h5',\n",
    "                monitor = 'val_loss',\n",
    "                save_best_only = True\n",
    "            ),\n",
    "            tf.keras.callbacks.ModelCheckpoint(\n",
    "                filepath='checkpoints2/'+'fold_{}____'.format(f)+datetime.now().strftime(\"%d_%m_%Y____%H_%M_%S\")+'.h5',\n",
    "                monitor = 'val_loss',\n",
    "                save_freq = 'epoch'\n",
    "            ),\n",
    "            tboard\n",
    "        ]"
   ]
  },
  {
   "cell_type": "code",
   "execution_count": null,
   "metadata": {},
   "outputs": [],
   "source": [
    "# To see tensorboard\n",
    "# Execute the following command in terminal\n",
    "# tensorboard --logdir=logs/"
   ]
  },
  {
   "cell_type": "code",
   "execution_count": 26,
   "metadata": {},
   "outputs": [
    {
     "name": "stdout",
     "output_type": "stream",
     "text": [
      "Epoch 1/30\n",
      "10/10 [==============================] - 315s 32s/step - loss: 0.7257 - accuracy: 0.6750 - val_loss: 4.1971 - val_accuracy: 0.6568\n",
      "Epoch 2/30\n",
      "10/10 [==============================] - 304s 30s/step - loss: 0.5638 - accuracy: 0.7625 - val_loss: 4.4554 - val_accuracy: 0.6625\n",
      "Epoch 3/30\n",
      "10/10 [==============================] - 313s 31s/step - loss: 0.5115 - accuracy: 0.7844 - val_loss: 7.2511 - val_accuracy: 0.5803\n",
      "Epoch 4/30\n",
      "10/10 [==============================] - 308s 31s/step - loss: 0.4744 - accuracy: 0.7937 - val_loss: 46.5847 - val_accuracy: 0.3218\n",
      "Epoch 5/30\n",
      "10/10 [==============================] - 308s 31s/step - loss: 0.4981 - accuracy: 0.7859 - val_loss: 258.1735 - val_accuracy: 0.3381\n",
      "Epoch 6/30\n",
      "10/10 [==============================] - 301s 30s/step - loss: 0.4020 - accuracy: 0.8250 - val_loss: 429.0347 - val_accuracy: 0.3411\n",
      "Epoch 7/30\n",
      "10/10 [==============================] - 301s 30s/step - loss: 0.5599 - accuracy: 0.7563 - val_loss: 6.9762 - val_accuracy: 0.5194\n",
      "Epoch 8/30\n",
      "10/10 [==============================] - 304s 30s/step - loss: 0.5154 - accuracy: 0.7906 - val_loss: 23.2385 - val_accuracy: 0.6587\n",
      "Epoch 9/30\n",
      "10/10 [==============================] - 313s 31s/step - loss: 0.4407 - accuracy: 0.8156 - val_loss: 2.5537 - val_accuracy: 0.5358\n",
      "Epoch 10/30\n",
      "10/10 [==============================] - 332s 33s/step - loss: 0.4534 - accuracy: 0.7827 - val_loss: 3.1599 - val_accuracy: 0.6575\n",
      "Epoch 11/30\n",
      "10/10 [==============================] - 315s 31s/step - loss: 0.3677 - accuracy: 0.8250 - val_loss: 1.9066 - val_accuracy: 0.7312\n",
      "Epoch 12/30\n",
      "10/10 [==============================] - 298s 30s/step - loss: 0.4187 - accuracy: 0.8375 - val_loss: 0.5167 - val_accuracy: 0.8087\n",
      "Epoch 13/30\n",
      "10/10 [==============================] - 308s 31s/step - loss: 0.4364 - accuracy: 0.8156 - val_loss: 1.1180 - val_accuracy: 0.7440\n",
      "Epoch 14/30\n",
      "10/10 [==============================] - 300s 30s/step - loss: 0.3782 - accuracy: 0.8406 - val_loss: 1.7461 - val_accuracy: 0.7390\n",
      "Epoch 15/30\n",
      "10/10 [==============================] - 320s 32s/step - loss: 0.3567 - accuracy: 0.8211 - val_loss: 1.0740 - val_accuracy: 0.7804\n",
      "Epoch 16/30\n",
      "10/10 [==============================] - 304s 30s/step - loss: 0.3925 - accuracy: 0.8375 - val_loss: 3.8219 - val_accuracy: 0.7409\n",
      "Epoch 17/30\n",
      "10/10 [==============================] - 314s 31s/step - loss: 0.4090 - accuracy: 0.8156 - val_loss: 0.6243 - val_accuracy: 0.7911\n",
      "Epoch 18/30\n",
      "10/10 [==============================] - 304s 30s/step - loss: 0.3878 - accuracy: 0.8625 - val_loss: 0.6548 - val_accuracy: 0.7942\n",
      "Epoch 19/30\n",
      "10/10 [==============================] - 318s 32s/step - loss: 0.3556 - accuracy: 0.8406 - val_loss: 0.5024 - val_accuracy: 0.7535\n",
      "Epoch 20/30\n",
      "10/10 [==============================] - 294s 29s/step - loss: 0.3875 - accuracy: 0.8498 - val_loss: 0.5006 - val_accuracy: 0.7315\n",
      "Epoch 21/30\n",
      "10/10 [==============================] - 296s 30s/step - loss: 0.3318 - accuracy: 0.8750 - val_loss: 0.6226 - val_accuracy: 0.7509\n",
      "Epoch 22/30\n",
      "10/10 [==============================] - 304s 30s/step - loss: 0.3812 - accuracy: 0.8375 - val_loss: 0.8519 - val_accuracy: 0.7977\n",
      "Epoch 23/30\n",
      "10/10 [==============================] - 308s 31s/step - loss: 0.3672 - accuracy: 0.8344 - val_loss: 2.4117 - val_accuracy: 0.6625\n",
      "Epoch 24/30\n",
      "10/10 [==============================] - 302s 30s/step - loss: 0.3705 - accuracy: 0.8243 - val_loss: 2.1870 - val_accuracy: 0.7585\n",
      "Epoch 25/30\n",
      "10/10 [==============================] - 307s 31s/step - loss: 0.3080 - accuracy: 0.8656 - val_loss: 3.4546 - val_accuracy: 0.6581\n",
      "Epoch 26/30\n",
      "10/10 [==============================] - 303s 30s/step - loss: 0.4034 - accuracy: 0.8375 - val_loss: 2.0660 - val_accuracy: 0.7233\n",
      "Epoch 27/30\n",
      "10/10 [==============================] - 308s 31s/step - loss: 0.3089 - accuracy: 0.8562 - val_loss: 1.4020 - val_accuracy: 0.6552\n",
      "Epoch 28/30\n",
      "10/10 [==============================] - 300s 30s/step - loss: 0.3979 - accuracy: 0.7875 - val_loss: 1.1221 - val_accuracy: 0.6631\n",
      "Epoch 29/30\n",
      "10/10 [==============================] - 302s 30s/step - loss: 0.3583 - accuracy: 0.8435 - val_loss: 0.8756 - val_accuracy: 0.6794\n",
      "Epoch 30/30\n",
      "10/10 [==============================] - 306s 31s/step - loss: 0.3269 - accuracy: 0.8531 - val_loss: 1.3447 - val_accuracy: 0.7127\n"
     ]
    }
   ],
   "source": [
    "history = model.fit(\n",
    "    train_generator,\n",
    "    steps_per_epoch=10,\n",
    "    epochs=30,\n",
    "    validation_data = valid_generator,\n",
    "    validation_steps=50,\n",
    "    callbacks = my_callbacks\n",
    ")"
   ]
  },
  {
   "cell_type": "code",
   "execution_count": null,
   "metadata": {},
   "outputs": [],
   "source": []
  },
  {
   "cell_type": "code",
   "execution_count": null,
   "metadata": {},
   "outputs": [],
   "source": []
  },
  {
   "cell_type": "code",
   "execution_count": null,
   "metadata": {},
   "outputs": [],
   "source": []
  },
  {
   "cell_type": "code",
   "execution_count": null,
   "metadata": {},
   "outputs": [],
   "source": []
  },
  {
   "cell_type": "code",
   "execution_count": null,
   "metadata": {},
   "outputs": [],
   "source": []
  },
  {
   "cell_type": "code",
   "execution_count": null,
   "metadata": {},
   "outputs": [],
   "source": []
  },
  {
   "cell_type": "code",
   "execution_count": null,
   "metadata": {},
   "outputs": [],
   "source": []
  },
  {
   "cell_type": "code",
   "execution_count": null,
   "metadata": {},
   "outputs": [],
   "source": []
  },
  {
   "cell_type": "code",
   "execution_count": null,
   "metadata": {},
   "outputs": [],
   "source": []
  },
  {
   "cell_type": "code",
   "execution_count": null,
   "metadata": {},
   "outputs": [],
   "source": []
  },
  {
   "cell_type": "code",
   "execution_count": null,
   "metadata": {},
   "outputs": [],
   "source": []
  },
  {
   "cell_type": "code",
   "execution_count": null,
   "metadata": {},
   "outputs": [],
   "source": []
  }
 ],
 "metadata": {
  "kernelspec": {
   "display_name": "Python 3",
   "language": "python",
   "name": "python3"
  },
  "language_info": {
   "codemirror_mode": {
    "name": "ipython",
    "version": 3
   },
   "file_extension": ".py",
   "mimetype": "text/x-python",
   "name": "python",
   "nbconvert_exporter": "python",
   "pygments_lexer": "ipython3",
   "version": "3.8.5"
  }
 },
 "nbformat": 4,
 "nbformat_minor": 4
}
