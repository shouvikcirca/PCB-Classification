{
 "cells": [
  {
   "cell_type": "code",
   "execution_count": 11,
   "metadata": {
    "colab": {},
    "colab_type": "code",
    "id": "mKdW-45kyBEr"
   },
   "outputs": [],
   "source": [
    "import tensorflow as tf\n",
    "import keras  \n",
    "from keras.applications import DenseNet121\n",
    "import numpy as np\n",
    "from keras.preprocessing.image import ImageDataGenerator, NumpyArrayIterator\n",
    "from keras.callbacks import EarlyStopping, ModelCheckpoint\n",
    "from sklearn.metrics import confusion_matrix\n",
    "from keras import models, layers, optimizers\n",
    "%load_ext tensorboard"
   ]
  },
  {
   "cell_type": "code",
   "execution_count": null,
   "metadata": {
    "colab": {},
    "colab_type": "code",
    "id": "HmJBnMc0yrOl"
   },
   "outputs": [],
   "source": [
    "# from google.colab import drive\n",
    "# drive.mount(\"/content/gdrive/\")"
   ]
  },
  {
   "cell_type": "code",
   "execution_count": 12,
   "metadata": {
    "colab": {},
    "colab_type": "code",
    "id": "jZpMhfh0yBFA"
   },
   "outputs": [],
   "source": [
    "samples = np.load(\"finaltrain.npy\")\n",
    "labels = np.load(\"finaltrainlabels.npy\")   "
   ]
  },
  {
   "cell_type": "code",
   "execution_count": 13,
   "metadata": {},
   "outputs": [
    {
     "data": {
      "text/plain": [
       "(2039, 1)"
      ]
     },
     "execution_count": 13,
     "metadata": {},
     "output_type": "execute_result"
    }
   ],
   "source": [
    "labels = labels.reshape(labels.shape[0],1)\n",
    "labels.shape"
   ]
  },
  {
   "cell_type": "code",
   "execution_count": 14,
   "metadata": {},
   "outputs": [
    {
     "data": {
      "text/plain": [
       "((2039, 600, 600, 3), (2039, 1))"
      ]
     },
     "execution_count": 14,
     "metadata": {},
     "output_type": "execute_result"
    }
   ],
   "source": [
    "samples.shape, labels.shape"
   ]
  },
  {
   "cell_type": "code",
   "execution_count": 11,
   "metadata": {},
   "outputs": [],
   "source": [
    "# conv_base = DenseNet121(include_top = False, pooling='avg', input_shape=(X.shape[1],X.shape[2],X.shape[3]))\n",
    "\n",
    "# for layer in conv_base.layers:\n",
    "#     if not layer.trainable:\n",
    "#         print(layer)"
   ]
  },
  {
   "cell_type": "code",
   "execution_count": 12,
   "metadata": {},
   "outputs": [],
   "source": [
    "# del conv_base"
   ]
  },
  {
   "cell_type": "code",
   "execution_count": null,
   "metadata": {
    "colab": {
     "base_uri": "https://localhost:8080/",
     "height": 34
    },
    "colab_type": "code",
    "id": "WBlCl5iJFAIs",
    "outputId": "4d496ff5-fe74-4b94-805b-e376c26c46f7"
   },
   "outputs": [],
   "source": [
    "# exf = conv_base.predict(X[0].reshape(1,X.shape[1],X.shape[2],X.shape[3])).shape"
   ]
  },
  {
   "cell_type": "code",
   "execution_count": 14,
   "metadata": {},
   "outputs": [
    {
     "data": {
      "text/plain": [
       "(1, 1024)"
      ]
     },
     "execution_count": 14,
     "metadata": {},
     "output_type": "execute_result"
    }
   ],
   "source": [
    "# exf"
   ]
  },
  {
   "cell_type": "markdown",
   "metadata": {
    "colab_type": "text",
    "id": "dH2UMi3oLXRj"
   },
   "source": [
    "Training with k-fold Validation"
   ]
  },
  {
   "cell_type": "code",
   "execution_count": 15,
   "metadata": {
    "colab": {
     "base_uri": "https://localhost:8080/",
     "height": 34
    },
    "colab_type": "code",
    "id": "ylYElFUN0NfI",
    "outputId": "af66d750-e58d-436f-c2c5-9d8ecfea496c"
   },
   "outputs": [
    {
     "data": {
      "text/plain": [
       "((2039, 600, 600, 3), 1345, 694)"
      ]
     },
     "execution_count": 15,
     "metadata": {},
     "output_type": "execute_result"
    }
   ],
   "source": [
    "samples.shape, (labels == 0).sum(), (labels == 1).sum()"
   ]
  },
  {
   "cell_type": "code",
   "execution_count": 16,
   "metadata": {
    "colab": {},
    "colab_type": "code",
    "id": "BeQXJVZL4h7v"
   },
   "outputs": [],
   "source": [
    "datagen = ImageDataGenerator(\n",
    "    featurewise_center = True,\n",
    "    featurewise_std_normalization = True\n",
    ")\n",
    "\n",
    "datagen.fit(samples)"
   ]
  },
  {
   "cell_type": "code",
   "execution_count": 17,
   "metadata": {},
   "outputs": [
    {
     "name": "stdout",
     "output_type": "stream",
     "text": [
      "(254, 600, 600, 3)\n",
      "(254, 600, 600, 3)\n",
      "(254, 600, 600, 3)\n",
      "(254, 600, 600, 3)\n",
      "(254, 600, 600, 3)\n",
      "(254, 600, 600, 3)\n",
      "(254, 600, 600, 3)\n",
      "(254, 600, 600, 3)\n",
      "(7, 600, 600, 3)\n"
     ]
    }
   ],
   "source": [
    "nos = samples.shape[0]\n",
    "bs = int(nos/8)\n",
    "\n",
    "numit = NumpyArrayIterator(\n",
    "    samples, labels,image_data_generator=datagen,  batch_size=bs, shuffle=False, sample_weight=None,\n",
    "    seed=123, data_format=None, save_to_dir=None, save_prefix='',\n",
    "    save_format='png', subset=None, dtype=None\n",
    ")\n",
    "\n",
    "i=0\n",
    "for samples_batch,labels_batch in numit:\n",
    "    f = samples_batch\n",
    "    print(f.shape)\n",
    "    samples[i*bs:(i+1)*bs] = f\n",
    "    labels[i*bs:(i+1)*bs] = labels_batch\n",
    "    i+=1\n",
    "    if (i*bs)>=nos:\n",
    "        break\n",
    "\n"
   ]
  },
  {
   "cell_type": "code",
   "execution_count": 23,
   "metadata": {},
   "outputs": [
    {
     "data": {
      "text/plain": [
       "((2039, 600, 600, 3), (2039, 1))"
      ]
     },
     "execution_count": 23,
     "metadata": {},
     "output_type": "execute_result"
    }
   ],
   "source": [
    "# from keras.preprocessing.image import array_to_img\n",
    "\n",
    "# a = array_to_img(samples[2038])\n",
    "# a.show()\n",
    "# labels[2038]\n",
    "\n",
    "samples.shape, labels.shape"
   ]
  },
  {
   "cell_type": "code",
   "execution_count": null,
   "metadata": {
    "colab": {
     "base_uri": "https://localhost:8080/",
     "height": 153
    },
    "colab_type": "code",
    "id": "dNpL_TEj5BNb",
    "outputId": "38fa788d-9cd6-496c-86c5-7bdd5ccbb71b"
   },
   "outputs": [],
   "source": [
    "# from preprocessing import whiten as wit\n",
    "# import importlib\n",
    "# importlib.reload(wit)\n",
    "\n",
    "# samples, labels = wit.whiten(X, y, conv_base, datagen, pooling=True)"
   ]
  },
  {
   "cell_type": "code",
   "execution_count": 18,
   "metadata": {
    "colab": {},
    "colab_type": "code",
    "id": "l3RCnShl5iGN"
   },
   "outputs": [
    {
     "data": {
      "text/plain": [
       "(2039, 331776)"
      ]
     },
     "execution_count": 18,
     "metadata": {},
     "output_type": "execute_result"
    }
   ],
   "source": [
    "# samples = samples.reshape(samples.shape[0],exf[1]*exf[2]*exf[3])\n",
    "# samples.shape"
   ]
  },
  {
   "cell_type": "code",
   "execution_count": 16,
   "metadata": {
    "colab": {
     "base_uri": "https://localhost:8080/",
     "height": 34
    },
    "colab_type": "code",
    "id": "hoBAWa2K5pXb",
    "outputId": "4c4db576-295e-4662-cf52-41aa2c9eff0a"
   },
   "outputs": [
    {
     "data": {
      "text/plain": [
       "((2039, 600, 600, 3), (2039, 1))"
      ]
     },
     "execution_count": 16,
     "metadata": {},
     "output_type": "execute_result"
    }
   ],
   "source": [
    "samples.shape, labels.shape"
   ]
  },
  {
   "cell_type": "code",
   "execution_count": 24,
   "metadata": {},
   "outputs": [],
   "source": [
    "from Models.models import dn121scratch as dns"
   ]
  },
  {
   "cell_type": "code",
   "execution_count": 25,
   "metadata": {},
   "outputs": [
    {
     "data": {
      "text/plain": [
       "'checkpoints/fold_1____17_10_2020____20_09_44.h5'"
      ]
     },
     "execution_count": 25,
     "metadata": {},
     "output_type": "execute_result"
    }
   ],
   "source": [
    "from datetime import datetime\n",
    "f = 1\n",
    "b = 'checkpoints/'+'fold_{}____'.format(f)+datetime.now().strftime(\"%d_%m_%Y____%H_%M_%S\")+'.h5'\n",
    "b"
   ]
  },
  {
   "cell_type": "code",
   "execution_count": 1,
   "metadata": {
    "colab": {
     "base_uri": "https://localhost:8080/",
     "height": 1000
    },
    "colab_type": "code",
    "id": "nSNmJgXP0Ndx",
    "outputId": "623b7622-4db6-40ba-de7b-f18b035a5c92"
   },
   "outputs": [
    {
     "ename": "NameError",
     "evalue": "name 'samples' is not defined",
     "output_type": "error",
     "traceback": [
      "\u001b[0;31m---------------------------------------------------------------------------\u001b[0m",
      "\u001b[0;31mNameError\u001b[0m                                 Traceback (most recent call last)",
      "\u001b[0;32m<ipython-input-1-27e7910dd085>\u001b[0m in \u001b[0;36m<module>\u001b[0;34m\u001b[0m\n\u001b[1;32m      8\u001b[0m \u001b[0mf\u001b[0m \u001b[0;34m=\u001b[0m \u001b[0;36m1\u001b[0m\u001b[0;34m\u001b[0m\u001b[0;34m\u001b[0m\u001b[0m\n\u001b[1;32m      9\u001b[0m \u001b[0;34m\u001b[0m\u001b[0m\n\u001b[0;32m---> 10\u001b[0;31m \u001b[0;32mfor\u001b[0m \u001b[0mtrain_index\u001b[0m\u001b[0;34m,\u001b[0m \u001b[0mtest_index\u001b[0m \u001b[0;32min\u001b[0m \u001b[0mskf\u001b[0m\u001b[0;34m.\u001b[0m\u001b[0msplit\u001b[0m\u001b[0;34m(\u001b[0m\u001b[0msamples\u001b[0m\u001b[0;34m,\u001b[0m \u001b[0mlabels\u001b[0m\u001b[0;34m)\u001b[0m\u001b[0;34m:\u001b[0m\u001b[0;34m\u001b[0m\u001b[0;34m\u001b[0m\u001b[0m\n\u001b[0m\u001b[1;32m     11\u001b[0m         \u001b[0mX_train\u001b[0m \u001b[0;34m=\u001b[0m \u001b[0msamples\u001b[0m\u001b[0;34m[\u001b[0m\u001b[0mtrain_index\u001b[0m\u001b[0;34m]\u001b[0m\u001b[0;34m\u001b[0m\u001b[0;34m\u001b[0m\u001b[0m\n\u001b[1;32m     12\u001b[0m         \u001b[0mX_test\u001b[0m \u001b[0;34m=\u001b[0m \u001b[0msamples\u001b[0m\u001b[0;34m[\u001b[0m\u001b[0mtest_index\u001b[0m\u001b[0;34m]\u001b[0m\u001b[0;34m\u001b[0m\u001b[0;34m\u001b[0m\u001b[0m\n",
      "\u001b[0;31mNameError\u001b[0m: name 'samples' is not defined"
     ]
    }
   ],
   "source": [
    "import keras.backend as K\n",
    "K.clear_session()\n",
    "\n",
    "from sklearn.model_selection import StratifiedKFold\n",
    "skf = StratifiedKFold(n_splits=2)\n",
    "\n",
    "accuracies = []\n",
    "f = 1\n",
    "\n",
    "for train_index, test_index in skf.split(samples, labels):\n",
    "        X_train = samples[train_index]\n",
    "        X_test = samples[test_index]\n",
    "        y_train = labels[train_index]\n",
    "        y_test = labels[test_index]\n",
    "          \n",
    "        K.clear_session()\n",
    "        model  = dns(X_train)\n",
    "        model.compile(optimizer = optimizers.Adam(lr = 1e-3),loss = 'binary_crossentropy',metrics = ['accuracy'])\n",
    "        my_callbacks = [\n",
    "            EarlyStopping(monitor = 'val_loss', patience=5),\n",
    "            tf.keras.callbacks.ModelCheckpoint(\n",
    "                filepath='checkpoints/'+'fold_{}____'.format(f)+datetime.now().strftime(\"%d_%m_%Y____%H_%M_%S\")+'.h5',\n",
    "                save_best_only = True\n",
    "            )\n",
    "        ]\n",
    "\n",
    "        print('Fold {}'.format(f))\n",
    "        history = model.fit(X_train, y_train, epochs = 100, batch_size = 64, validation_data = (X_test, y_test), shuffle = True, callbacks = my_callbacks)\n",
    "        \n",
    "        '''\n",
    "        test_preds = model.predict(X_test, batch_size = 20)\n",
    "        test_predclass = np.array([1.0 if i>0.5 else 0.0 for i in test_preds])\n",
    "        accuracies.append([confusion_matrix(y_test,test_predclass)[0][0]/(y_test == 0.0).sum(), confusion_matrix(y_test,test_predclass)[1][1]/(y_test == 1.0).sum()])\n",
    "        '''\n",
    "        f+=1\n"
   ]
  },
  {
   "cell_type": "code",
   "execution_count": null,
   "metadata": {},
   "outputs": [],
   "source": [
    "accuracies"
   ]
  },
  {
   "cell_type": "code",
   "execution_count": 63,
   "metadata": {
    "colab": {
     "base_uri": "https://localhost:8080/",
     "height": 34
    },
    "colab_type": "code",
    "id": "-GvsuoqY0NZL",
    "outputId": "86cd6f19-44e1-460f-e63a-d644e0949672"
   },
   "outputs": [
    {
     "name": "stdout",
     "output_type": "stream",
     "text": [
      "0.8441091954022989 0.7468390804597701\n"
     ]
    }
   ],
   "source": [
    "zero_acc = 0\n",
    "one_acc = 0\n",
    "\n",
    "for i in accuracies:\n",
    "  zero_acc+= i[0]\n",
    "  one_acc+=i[1]\n",
    "\n",
    "zero_acc/=8\n",
    "one_acc/=8\n",
    "\n",
    "print(zero_acc, one_acc)"
   ]
  },
  {
   "cell_type": "markdown",
   "metadata": {
    "colab_type": "text",
    "id": "trKQU8cuMHQV"
   },
   "source": [
    "Training on whole Training Dataset"
   ]
  },
  {
   "cell_type": "code",
   "execution_count": 67,
   "metadata": {
    "colab": {},
    "colab_type": "code",
    "id": "ppbMkhK2L0ov"
   },
   "outputs": [],
   "source": [
    "model = models.Sequential()\n",
    "model.add(layers.Dense(256, activation = 'relu', input_dim = 9*9*1024))\n",
    "model.add(layers.Dropout(0.5))\n",
    "model.add(layers.Dense(1, activation = 'sigmoid'))\n",
    "model.compile(optimizer = optimizers.Adam(lr = 1e-3),loss = 'binary_crossentropy',metrics = ['accuracy'])\n",
    "my_callbacks = [EarlyStopping(monitor = 'val_loss', patience=5, restore_best_weights=True)]\n"
   ]
  },
  {
   "cell_type": "code",
   "execution_count": 68,
   "metadata": {
    "colab": {},
    "colab_type": "code",
    "id": "Xncnp_xvNgcr"
   },
   "outputs": [],
   "source": [
    "xtest = np.load('gdrive/My Drive/pcb/xtest.npy')\n",
    "ytest = np.load('gdrive/My Drive/pcb/ytest.npy')\n"
   ]
  },
  {
   "cell_type": "code",
   "execution_count": 69,
   "metadata": {
    "colab": {},
    "colab_type": "code",
    "id": "SDa1CkJ9NgfS"
   },
   "outputs": [],
   "source": [
    "datagentest = ImageDataGenerator(\n",
    "    featurewise_center = True,\n",
    "    featurewise_std_normalization = True\n",
    ")"
   ]
  },
  {
   "cell_type": "code",
   "execution_count": 70,
   "metadata": {
    "colab": {},
    "colab_type": "code",
    "id": "uGEL70FTNglr"
   },
   "outputs": [],
   "source": [
    "datagentest.fit(xtest)"
   ]
  },
  {
   "cell_type": "code",
   "execution_count": 71,
   "metadata": {
    "colab": {
     "base_uri": "https://localhost:8080/",
     "height": 34
    },
    "colab_type": "code",
    "id": "QS7XpHLiNgoa",
    "outputId": "379259af-bb64-46eb-d479-aafc37f2c657"
   },
   "outputs": [
    {
     "name": "stdout",
     "output_type": "stream",
     "text": [
      "(552, 9, 9, 1024)\n"
     ]
    }
   ],
   "source": [
    "testnos = ytest.shape[0]\n",
    "\n",
    "numittest = NumpyArrayIterator(\n",
    "    xtest, ytest, datagentest, batch_size=testnos, shuffle=False, sample_weight=None,\n",
    "    seed=None, data_format=None, save_to_dir=None, save_prefix='',\n",
    "    save_format='png', subset=None, dtype=None\n",
    ")\n",
    "\n",
    "\n",
    "test_samples = np.zeros(shape=(testnos,9,9,1024))\n",
    "test_labels = np.zeros(shape=(testnos))\n",
    "for samples_batch,labels_batch in numittest:\n",
    "    g = conv_base.predict(samples_batch)\n",
    "    print(g.shape)\n",
    "    test_samples[::] = g\n",
    "    test_labels[:] = labels_batch\n",
    "    break"
   ]
  },
  {
   "cell_type": "code",
   "execution_count": 72,
   "metadata": {
    "colab": {},
    "colab_type": "code",
    "id": "0f37VOEUNgki"
   },
   "outputs": [],
   "source": [
    "test_samples = test_samples.reshape(testnos,9*9*1024)"
   ]
  },
  {
   "cell_type": "code",
   "execution_count": 73,
   "metadata": {
    "colab": {
     "base_uri": "https://localhost:8080/",
     "height": 374
    },
    "colab_type": "code",
    "id": "Ef_xxG8bNgiT",
    "outputId": "cdc45229-4a92-4a9d-87fa-408cef851bb9"
   },
   "outputs": [
    {
     "name": "stdout",
     "output_type": "stream",
     "text": [
      "Train on 472 samples, validate on 552 samples\n",
      "Epoch 1/100\n",
      "472/472 [==============================] - 1s 3ms/step - loss: 11.1310 - accuracy: 0.6314 - val_loss: 9.0883 - val_accuracy: 0.5761\n",
      "Epoch 2/100\n",
      "472/472 [==============================] - 1s 2ms/step - loss: 3.4271 - accuracy: 0.8072 - val_loss: 5.3799 - val_accuracy: 0.5127\n",
      "Epoch 3/100\n",
      "472/472 [==============================] - 1s 2ms/step - loss: 0.8648 - accuracy: 0.8559 - val_loss: 1.2761 - val_accuracy: 0.7989\n",
      "Epoch 4/100\n",
      "472/472 [==============================] - 1s 2ms/step - loss: 0.3308 - accuracy: 0.9004 - val_loss: 0.9744 - val_accuracy: 0.8116\n",
      "Epoch 5/100\n",
      "472/472 [==============================] - 1s 3ms/step - loss: 0.1535 - accuracy: 0.9492 - val_loss: 0.7227 - val_accuracy: 0.8188\n",
      "Epoch 6/100\n",
      "472/472 [==============================] - 1s 2ms/step - loss: 0.1998 - accuracy: 0.9407 - val_loss: 0.8313 - val_accuracy: 0.8116\n",
      "Epoch 7/100\n",
      "472/472 [==============================] - 1s 2ms/step - loss: 0.1547 - accuracy: 0.9513 - val_loss: 0.9824 - val_accuracy: 0.7663\n",
      "Epoch 8/100\n",
      "472/472 [==============================] - 1s 2ms/step - loss: 0.1571 - accuracy: 0.9428 - val_loss: 1.1477 - val_accuracy: 0.7373\n",
      "Epoch 9/100\n",
      "472/472 [==============================] - 1s 2ms/step - loss: 0.1340 - accuracy: 0.9597 - val_loss: 0.8251 - val_accuracy: 0.7899\n",
      "Epoch 10/100\n",
      "472/472 [==============================] - 1s 2ms/step - loss: 0.0877 - accuracy: 0.9725 - val_loss: 0.9604 - val_accuracy: 0.7808\n"
     ]
    }
   ],
   "source": [
    "historytest = model.fit(samples, labels, epochs = 100, batch_size = 20, validation_data = (test_samples, test_labels), shuffle = True,  callbacks = my_callbacks)"
   ]
  },
  {
   "cell_type": "code",
   "execution_count": 74,
   "metadata": {
    "colab": {},
    "colab_type": "code",
    "id": "jgbhA0dtNgaq"
   },
   "outputs": [],
   "source": [
    "test_preds = model.predict(test_samples, batch_size = 20)"
   ]
  },
  {
   "cell_type": "code",
   "execution_count": 75,
   "metadata": {
    "colab": {},
    "colab_type": "code",
    "id": "I3oZ2uIBOrsm"
   },
   "outputs": [],
   "source": [
    "test_predclass = np.array([1.0 if i>0.5 else 0.0 for i in test_preds])"
   ]
  },
  {
   "cell_type": "code",
   "execution_count": 76,
   "metadata": {
    "colab": {
     "base_uri": "https://localhost:8080/",
     "height": 34
    },
    "colab_type": "code",
    "id": "B9pW68K3Orxg",
    "outputId": "393f1fcd-d04e-4eab-d49d-0ab9d99d85ce"
   },
   "outputs": [
    {
     "data": {
      "text/plain": [
       "(0.6440677966101694, 0.8397565922920892)"
      ]
     },
     "execution_count": 76,
     "metadata": {
      "tags": []
     },
     "output_type": "execute_result"
    }
   ],
   "source": [
    "confusion_matrix(test_labels,test_predclass)[0][0]/(ytest == 0.0).sum(), confusion_matrix(test_labels,test_predclass)[1][1]/(ytest == 1.0).sum()"
   ]
  },
  {
   "cell_type": "code",
   "execution_count": null,
   "metadata": {
    "colab": {},
    "colab_type": "code",
    "id": "MxapdKZhOr0Q"
   },
   "outputs": [],
   "source": [
    "# Saving model\n",
    "\n",
    "# model_json = model.to_json()\n",
    "# with open(\"gdrive/My Drive/models/VGG19_12.json\", \"w\") as json_file:\n",
    "#     json_file.write(model_json)"
   ]
  },
  {
   "cell_type": "code",
   "execution_count": null,
   "metadata": {
    "colab": {},
    "colab_type": "code",
    "id": "rybw7Ry7Or2f"
   },
   "outputs": [],
   "source": [
    "# model.save_weights(\"gdrive/My Drive/models/VGG19_12.h5\")\n",
    "# print(\"Saved model to disk\")"
   ]
  },
  {
   "cell_type": "code",
   "execution_count": null,
   "metadata": {
    "colab": {},
    "colab_type": "code",
    "id": "CumEUxIaOrve"
   },
   "outputs": [],
   "source": [
    "# Saving and loading models\n",
    "# https://machinelearningmastery.com/save-load-keras-deep-learning-models/"
   ]
  },
  {
   "cell_type": "code",
   "execution_count": null,
   "metadata": {
    "colab": {},
    "colab_type": "code",
    "id": "xRJWd9bUHWa7"
   },
   "outputs": [],
   "source": []
  },
  {
   "cell_type": "code",
   "execution_count": 15,
   "metadata": {
    "colab": {
     "base_uri": "https://localhost:8080/",
     "height": 163
    },
    "colab_type": "code",
    "id": "hcaOhs5bHWfg",
    "outputId": "674f23c9-755b-42a5-8450-34eb9f83a091"
   },
   "outputs": [
    {
     "ename": "TypeError",
     "evalue": "ignored",
     "output_type": "error",
     "traceback": [
      "\u001b[0;31m---------------------------------------------------------------------------\u001b[0m",
      "\u001b[0;31mTypeError\u001b[0m                                 Traceback (most recent call last)",
      "\u001b[0;32m<ipython-input-15-010bb633e7c3>\u001b[0m in \u001b[0;36m<module>\u001b[0;34m()\u001b[0m\n\u001b[0;32m----> 1\u001b[0;31m \u001b[0mx\u001b[0m\u001b[0;34m(\u001b[0m\u001b[0ma\u001b[0m\u001b[0;34m)\u001b[0m\u001b[0;34m\u001b[0m\u001b[0;34m\u001b[0m\u001b[0m\n\u001b[0m",
      "\u001b[0;31mTypeError\u001b[0m: 'Tensor' object is not callable"
     ]
    }
   ],
   "source": []
  },
  {
   "cell_type": "code",
   "execution_count": null,
   "metadata": {
    "colab": {},
    "colab_type": "code",
    "id": "Oech-RU0HWhX"
   },
   "outputs": [],
   "source": []
  }
 ],
 "metadata": {
  "accelerator": "GPU",
  "colab": {
   "name": "DenseNet121_pretrained.ipynb",
   "provenance": [],
   "toc_visible": true
  },
  "kernelspec": {
   "display_name": "Python 3",
   "language": "python",
   "name": "python3"
  },
  "language_info": {
   "codemirror_mode": {
    "name": "ipython",
    "version": 3
   },
   "file_extension": ".py",
   "mimetype": "text/x-python",
   "name": "python",
   "nbconvert_exporter": "python",
   "pygments_lexer": "ipython3",
   "version": "3.8.5"
  }
 },
 "nbformat": 4,
 "nbformat_minor": 4
}
