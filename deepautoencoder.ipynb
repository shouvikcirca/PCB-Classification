{
 "cells": [
  {
   "cell_type": "code",
   "execution_count": 1,
   "metadata": {},
   "outputs": [],
   "source": [
    "import numpy as np\n",
    "from keras.preprocessing.image import load_img, img_to_array, array_to_img"
   ]
  },
  {
   "cell_type": "code",
   "execution_count": 2,
   "metadata": {},
   "outputs": [
    {
     "name": "stdout",
     "output_type": "stream",
     "text": [
      "Tensor(\"input_1:0\", shape=(None, 600, 600, 3), dtype=float32)\n",
      "Tensor(\"max_pooling2d/Identity:0\", shape=(None, 300, 300, 128), dtype=float32)\n",
      "Tensor(\"max_pooling2d_1/Identity:0\", shape=(None, 150, 150, 64), dtype=float32)\n",
      "Tensor(\"max_pooling2d_2/Identity:0\", shape=(None, 75, 75, 32), dtype=float32)\n",
      "Tensor(\"conv2d_transpose/Identity:0\", shape=(None, 150, 150, 64), dtype=float32)\n",
      "Tensor(\"conv2d_transpose_1/Identity:0\", shape=(None, 300, 300, 128), dtype=float32)\n",
      "Tensor(\"conv2d_transpose_2/Identity:0\", shape=(None, 600, 600, 3), dtype=float32)\n"
     ]
    }
   ],
   "source": [
    "from tensorflow.keras import Input\n",
    "from tensorflow.keras import layers, Model\n",
    "\n",
    "input_img = Input(shape=(600, 600, 3))\n",
    "\n",
    "print(input_img)\n",
    "x = layers.Conv2D(128, kernel_size = 3, strides = 1,  activation='relu', padding='same')(input_img)\n",
    "x = layers.MaxPooling2D((2, 2), padding='same')(x)\n",
    "print(x)\n",
    "x = layers.Conv2D(64, kernel_size = 3, strides = 1, activation='relu', padding='same')(x)\n",
    "x = layers.MaxPooling2D((2, 2), padding='same')(x)\n",
    "print(x)\n",
    "x = layers.Conv2D(32, kernel_size = 3, strides = 1, activation='relu', padding='same')(x)\n",
    "encoded = layers.MaxPooling2D((2, 2), padding='same')(x)\n",
    "print(encoded)\n",
    "\n",
    "x = layers.Conv2DTranspose(64, (3, 3), strides = 2, activation='relu', padding='same')(encoded)\n",
    "print(x)\n",
    "x = layers.Conv2DTranspose(128, (3, 3), strides = 2, activation='relu', padding='same')(x)\n",
    "print(x)\n",
    "decoded = layers.Conv2DTranspose(3, (3, 3), strides = 2, activation='relu', padding='same')(x)\n",
    "print(decoded)\n",
    "autoencoder = Model(input_img,decoded)"
   ]
  },
  {
   "cell_type": "code",
   "execution_count": 3,
   "metadata": {},
   "outputs": [],
   "source": [
    "autoencoder.compile(optimizer='adam', loss='binary_crossentropy')"
   ]
  },
  {
   "cell_type": "code",
   "execution_count": 4,
   "metadata": {},
   "outputs": [],
   "source": [
    "#Loading data\n",
    "import os\n",
    "trainfalsedirpath = 'Folds/3folds/fold1/Train/False'\n",
    "trainfalsedir = os.listdir(trainfalsedirpath)\n",
    "\n",
    "\n",
    "xtrain = np.zeros([6,600,600,3])\n",
    "xval = np.zeros([6,600,600,3])\n",
    "\n",
    "for k,v in enumerate(trainfalsedir[:5]):\n",
    "    xtrain[k] = img_to_array(load_img(trainfalsedirpath + '/' + v))\n",
    "\n",
    "for k,v in enumerate(trainfalsedir[5:10]):\n",
    "    xval[k] = img_to_array(load_img(trainfalsedirpath + '/' + v))\n"
   ]
  },
  {
   "cell_type": "code",
   "execution_count": 5,
   "metadata": {},
   "outputs": [
    {
     "name": "stdout",
     "output_type": "stream",
     "text": [
      "3/3 [==============================] - 12s 4s/step - loss: 404.6444 - val_loss: -651.3224\n"
     ]
    },
    {
     "data": {
      "text/plain": [
       "<tensorflow.python.keras.callbacks.History at 0x7f8630882af0>"
      ]
     },
     "execution_count": 5,
     "metadata": {},
     "output_type": "execute_result"
    }
   ],
   "source": [
    "autoencoder.fit(\n",
    "    xtrain,\n",
    "    xtrain,\n",
    "    epochs = 1,\n",
    "    batch_size = 2,\n",
    "    shuffle = True,\n",
    "    validation_data = (xval, xval)\n",
    ")"
   ]
  },
  {
   "cell_type": "code",
   "execution_count": 20,
   "metadata": {},
   "outputs": [],
   "source": [
    "a = autoencoder.predict(np.expand_dims(img_to_array(load_img(trainfalsedirpath + '/' + trainfalsedir[21])), axis = 0))"
   ]
  }
 ],
 "metadata": {
  "kernelspec": {
   "display_name": "Python 3",
   "language": "python",
   "name": "python3"
  },
  "language_info": {
   "codemirror_mode": {
    "name": "ipython",
    "version": 3
   },
   "file_extension": ".py",
   "mimetype": "text/x-python",
   "name": "python",
   "nbconvert_exporter": "python",
   "pygments_lexer": "ipython3",
   "version": "3.8.5"
  }
 },
 "nbformat": 4,
 "nbformat_minor": 4
}
