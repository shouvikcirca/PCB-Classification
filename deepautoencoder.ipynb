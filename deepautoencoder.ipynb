{
 "cells": [
  {
   "cell_type": "code",
   "execution_count": 4,
   "metadata": {},
   "outputs": [
    {
     "name": "stdout",
     "output_type": "stream",
     "text": [
      "Tensor(\"input_2:0\", shape=(None, 600, 600, 3), dtype=float32)\n",
      "Tensor(\"conv2d/Identity:0\", shape=(None, 600, 600, 512), dtype=float32)\n",
      "Tensor(\"max_pooling2d/Identity:0\", shape=(None, 300, 300, 512), dtype=float32)\n",
      "Tensor(\"max_pooling2d_1/Identity:0\", shape=(None, 300, 300, 256), dtype=float32)\n",
      "Tensor(\"max_pooling2d_2/Identity:0\", shape=(None, 150, 150, 256), dtype=float32)\n",
      "Tensor(\"conv2d_transpose/Identity:0\", shape=(None, 300, 300, 256), dtype=float32)\n",
      "Tensor(\"conv2d_transpose_1/Identity:0\", shape=(None, 300, 300, 512), dtype=float32)\n",
      "Tensor(\"conv2d_transpose_2/Identity:0\", shape=(None, 600, 600, 512), dtype=float32)\n",
      "Tensor(\"conv2d_transpose_3/Identity:0\", shape=(None, 600, 600, 3), dtype=float32)\n"
     ]
    }
   ],
   "source": [
    "from tensorflow.keras import Input\n",
    "from tensorflow.keras import layers, Model\n",
    "\n",
    "input_img = Input(shape=(600, 600, 3))\n",
    "\n",
    "print(input_img)\n",
    "x = layers.Conv2D(512, kernel_size = 3, strides = 1, activation='relu', padding='same')(input_img)\n",
    "print(x)\n",
    "x = layers.Conv2D(512, kernel_size = 3, strides = 1, activation='relu', padding='same')(input_img)\n",
    "x = layers.MaxPooling2D((2, 2), padding='same')(x)\n",
    "print(x)\n",
    "x = layers.Conv2D(256, kernel_size = 3, strides = 1, activation='relu', padding='same')(input_img)\n",
    "x = layers.MaxPooling2D((2, 2), padding='same')(x)\n",
    "print(x)\n",
    "\n",
    "x = layers.Conv2D(256, (3, 3), activation='relu', padding='same')(x)\n",
    "x = layers.MaxPooling2D((2, 2), padding='same')(x)\n",
    "print(x)\n",
    "encoder = Model(input_img, x)\n",
    "\n",
    "\n",
    "x = layers.Conv2DTranspose(256, (3, 3), strides = 2, activation='relu', padding='same')(x)\n",
    "print(x)\n",
    "x = layers.Conv2DTranspose(512, (3, 3), strides = 1, activation='relu', padding='same')(x)\n",
    "print(x)\n",
    "x = layers.Conv2DTranspose(512, (3, 3), strides = 2, activation='relu', padding='same')(x)\n",
    "print(x)\n",
    "x = layers.Conv2DTranspose(3, (3, 3), strides = 1, activation='relu', padding='same')(x)\n",
    "print(x)\n",
    "decoder = Model(input_img,x)"
   ]
  },
  {
   "cell_type": "code",
   "execution_count": null,
   "metadata": {},
   "outputs": [],
   "source": [
    "import numpy as np\n",
    "a = np.zeros([1,600,600,3])\n",
    "a.shape"
   ]
  },
  {
   "cell_type": "code",
   "execution_count": null,
   "metadata": {},
   "outputs": [],
   "source": [
    "encoder.predict(a).shape, decoder.predict(a).shape"
   ]
  },
  {
   "cell_type": "code",
   "execution_count": null,
   "metadata": {},
   "outputs": [],
   "source": [
    "from tensorflow.keras import backend as K\n",
    "K.clear_session()"
   ]
  },
  {
   "cell_type": "code",
   "execution_count": 1,
   "metadata": {},
   "outputs": [],
   "source": [
    "from Models.models import dn121scratch as dns"
   ]
  },
  {
   "cell_type": "code",
   "execution_count": 2,
   "metadata": {},
   "outputs": [
    {
     "name": "stdout",
     "output_type": "stream",
     "text": [
      "Downloading data from https://storage.googleapis.com/tensorflow/keras-applications/densenet/densenet121_weights_tf_dim_ordering_tf_kernels_notop.h5\n",
      "29089792/29084464 [==============================] - 8s 0us/step\n"
     ]
    }
   ],
   "source": [
    "m = dns()"
   ]
  },
  {
   "cell_type": "code",
   "execution_count": 3,
   "metadata": {},
   "outputs": [
    {
     "name": "stdout",
     "output_type": "stream",
     "text": [
      "Model: \"sequential\"\n",
      "_________________________________________________________________\n",
      "Layer (type)                 Output Shape              Param #   \n",
      "=================================================================\n",
      "densenet121 (Model)          (None, 1024)              7037504   \n",
      "_________________________________________________________________\n",
      "dense (Dense)                (None, 1)                 1025      \n",
      "=================================================================\n",
      "Total params: 7,038,529\n",
      "Trainable params: 6,954,881\n",
      "Non-trainable params: 83,648\n",
      "_________________________________________________________________\n"
     ]
    }
   ],
   "source": [
    "m.summary()"
   ]
  },
  {
   "cell_type": "code",
   "execution_count": null,
   "metadata": {},
   "outputs": [],
   "source": [
    "import tensorflow as tf\n",
    "tf.__version__[0]"
   ]
  },
  {
   "cell_type": "code",
   "execution_count": 5,
   "metadata": {},
   "outputs": [
    {
     "name": "stdout",
     "output_type": "stream",
     "text": [
      "Model: \"model_1\"\n",
      "_________________________________________________________________\n",
      "Layer (type)                 Output Shape              Param #   \n",
      "=================================================================\n",
      "input_2 (InputLayer)         [(None, 600, 600, 3)]     0         \n",
      "_________________________________________________________________\n",
      "conv2d_2 (Conv2D)            (None, 600, 600, 256)     7168      \n",
      "_________________________________________________________________\n",
      "max_pooling2d_1 (MaxPooling2 (None, 300, 300, 256)     0         \n",
      "_________________________________________________________________\n",
      "conv2d_3 (Conv2D)            (None, 300, 300, 256)     590080    \n",
      "_________________________________________________________________\n",
      "max_pooling2d_2 (MaxPooling2 (None, 150, 150, 256)     0         \n",
      "_________________________________________________________________\n",
      "conv2d_transpose (Conv2DTran (None, 300, 300, 256)     590080    \n",
      "_________________________________________________________________\n",
      "conv2d_transpose_1 (Conv2DTr (None, 300, 300, 512)     1180160   \n",
      "_________________________________________________________________\n",
      "conv2d_transpose_2 (Conv2DTr (None, 600, 600, 512)     2359808   \n",
      "_________________________________________________________________\n",
      "conv2d_transpose_3 (Conv2DTr (None, 600, 600, 3)       13827     \n",
      "=================================================================\n",
      "Total params: 4,741,123\n",
      "Trainable params: 4,741,123\n",
      "Non-trainable params: 0\n",
      "_________________________________________________________________\n"
     ]
    }
   ],
   "source": [
    "decoder.summary()"
   ]
  },
  {
   "cell_type": "code",
   "execution_count": null,
   "metadata": {},
   "outputs": [],
   "source": []
  },
  {
   "cell_type": "code",
   "execution_count": null,
   "metadata": {},
   "outputs": [],
   "source": []
  },
  {
   "cell_type": "code",
   "execution_count": null,
   "metadata": {},
   "outputs": [],
   "source": []
  },
  {
   "cell_type": "code",
   "execution_count": null,
   "metadata": {},
   "outputs": [],
   "source": []
  },
  {
   "cell_type": "code",
   "execution_count": null,
   "metadata": {},
   "outputs": [],
   "source": []
  },
  {
   "cell_type": "code",
   "execution_count": null,
   "metadata": {},
   "outputs": [],
   "source": []
  }
 ],
 "metadata": {
  "kernelspec": {
   "display_name": "Python 3",
   "language": "python",
   "name": "python3"
  },
  "language_info": {
   "codemirror_mode": {
    "name": "ipython",
    "version": 3
   },
   "file_extension": ".py",
   "mimetype": "text/x-python",
   "name": "python",
   "nbconvert_exporter": "python",
   "pygments_lexer": "ipython3",
   "version": "3.8.5"
  }
 },
 "nbformat": 4,
 "nbformat_minor": 4
}
